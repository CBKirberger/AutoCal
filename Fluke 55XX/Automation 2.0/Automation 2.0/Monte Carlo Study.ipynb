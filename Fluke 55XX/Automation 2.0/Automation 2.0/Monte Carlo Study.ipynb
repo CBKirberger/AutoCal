{
 "cells": [
  {
   "cell_type": "code",
   "execution_count": 27,
   "metadata": {},
   "outputs": [
    {
     "name": "stderr",
     "output_type": "stream",
     "text": [
      "C:\\ProgramData\\Anaconda3\\lib\\site-packages\\matplotlib\\figure.py:2299: UserWarning: This figure includes Axes that are not compatible with tight_layout, so results might be incorrect.\n",
      "  warnings.warn(\"This figure includes Axes that are not compatible \"\n"
     ]
    },
    {
     "data": {
      "image/png": "[encoded data removed]",
      "text/plain": [
       "<Figure size 432x288 with 1 Axes>"
      ]
     },
     "metadata": {
      "needs_background": "light"
     },
     "output_type": "display_data"
    },
    {
     "name": "stdout",
     "output_type": "stream",
     "text": [
      "0.0020002923084828945 7.174743930176149e-08\n",
      "0.0035868477320786054\n"
     ]
    }
   ],
   "source": [
    "import numpy as np\n",
    "import matplotlib.pyplot as plt\n",
    "\n",
    "\n",
    "def Measurement():\n",
    "    \n",
    "    return ((T1.measure()-T2.measure())*I.measure())/(V2.measure()-V1.measure())\n",
    "\n",
    "class Measurand():\n",
    "    \n",
    "    def __init__(self,value,error):\n",
    "        self.value=value\n",
    "        self.error=error\n",
    "    \n",
    "    def measure(self):\n",
    "    \n",
    "        return np.random.normal(self.value, self.error, 1)[0]\n",
    "        \n",
    "\n",
    "V1 = Measurand(0.776047,0.0000133)\n",
    "V2 = Measurand(3.448656,0.0000133)\n",
    "\n",
    "I = Measurand(0.000540,0.000000019)\n",
    "\n",
    "T1 = Measurand(9.9,0.00001)\n",
    "T2 = Measurand(0,0.00001)\n",
    "\n",
    "readings = []\n",
    "\n",
    "for i in range(50000):\n",
    "    readings.append(Measurement())\n",
    "    \n",
    "fig, axs = plt.subplots(1, 1, tight_layout=True)\n",
    "\n",
    "# We can set the number of bins with the `bins` kwarg\n",
    "axs.hist(readings, bins=50)\n",
    "\n",
    "plt.show()\n",
    "\n",
    "print (np.mean(readings),np.std(readings))\n",
    "print (100*(np.std(readings)/np.mean(readings)))\n",
    "\n",
    "    \n",
    "    \n",
    "    \n",
    "\n",
    "\n",
    "\n",
    "\n"
   ]
  },
  {
   "cell_type": "code",
   "execution_count": 29,
   "metadata": {},
   "outputs": [
    {
     "name": "stdout",
     "output_type": "stream",
     "text": [
      "Utility Classes\n"
     ]
    }
   ],
   "source": [
    "import serial\n",
    "import pandas as pd\n",
    "import time\n",
    "from datetime import datetime\n",
    "\n",
    "import sys,os\n",
    "\n",
    "print (os.path.join(sys.path[0],'Utility Classes'))\n"
   ]
  },
  {
   "cell_type": "code",
   "execution_count": null,
   "metadata": {},
   "outputs": [],
   "source": []
  }
 ],
 "metadata": {
  "kernelspec": {
   "display_name": "Python 3",
   "language": "python",
   "name": "python3"
  },
  "language_info": {
   "codemirror_mode": {
    "name": "ipython",
    "version": 3
   },
   "file_extension": ".py",
   "mimetype": "text/x-python",
   "name": "python",
   "nbconvert_exporter": "python",
   "pygments_lexer": "ipython3",
   "version": "3.7.0"
  }
 },
 "nbformat": 4,
 "nbformat_minor": 2
}
